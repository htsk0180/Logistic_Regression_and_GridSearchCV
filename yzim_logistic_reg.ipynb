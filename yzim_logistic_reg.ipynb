{
  "nbformat": 4,
  "nbformat_minor": 0,
  "metadata": {
    "colab": {
      "provenance": []
    },
    "kernelspec": {
      "name": "python3",
      "display_name": "Python 3"
    },
    "language_info": {
      "name": "python"
    }
  },
  "cells": [
    {
      "cell_type": "code",
      "execution_count": 91,
      "metadata": {
        "colab": {
          "base_uri": "https://localhost:8080/",
          "height": 250
        },
        "id": "aCzvPUiikXn0",
        "outputId": "9c4df507-c24b-4ac7-ac6e-32ef94435774"
      },
      "outputs": [
        {
          "output_type": "execute_result",
          "data": {
            "text/plain": [
              "   CNT  ST004D01T    ESCS  UNDREM  METASUM  METASPAM  ICTHOME  ICTSCH  \\\n",
              "0  AUS          1  1.3151    1.50     0.59      0.42       11       9   \n",
              "1  AUS          2  1.3151    1.50    -0.18      1.33        9       7   \n",
              "2  AUS          1  1.3152    0.80     0.98      0.42        9       4   \n",
              "3  AUS          1  1.3152   -0.25     0.59      0.87       11       8   \n",
              "4  AUS          2  1.3152   -0.25     0.59      1.33        8       9   \n",
              "\n",
              "   HOMEPOS  CULTPOSS  HEDRES  WEALTH  ICTRES  DISCLIMA  TEACHSUP  DIRINS  \\\n",
              "0   2.2767    1.1953  1.1793  2.3106  1.8669    2.0345    1.3140  1.8202   \n",
              "1   1.2442    2.0078  1.1793  0.4222  0.0595    1.0294   -0.6262 -0.5066   \n",
              "2   1.2414    1.9141  1.1793  0.2830   0.333   -2.0985    0.0297 -0.4616   \n",
              "3   1.7578    1.5917  1.1793  1.0705  2.6563    0.4922   -0.8998 -1.0493   \n",
              "4   1.2395    1.3941  1.1793  1.0975  0.3692    0.3529    1.3140  0.6532   \n",
              "\n",
              "   PERFEED  EMOSUPS  STIMREAD  ADAPTIVITY  \n",
              "0   2.0165   0.6402    0.8980      0.5464  \n",
              "1   0.5121   0.2127    0.5135      0.4572  \n",
              "2   0.7743   1.0346   -0.2336     -0.1687  \n",
              "3   0.2012   1.0346    0.0236     -0.1716  \n",
              "4   0.9044  -0.6576   -0.2336      1.3230  "
            ],
            "text/html": [
              "\n",
              "  <div id=\"df-18415ff1-3916-4157-b06b-44cf50c9e00c\">\n",
              "    <div class=\"colab-df-container\">\n",
              "      <div>\n",
              "<style scoped>\n",
              "    .dataframe tbody tr th:only-of-type {\n",
              "        vertical-align: middle;\n",
              "    }\n",
              "\n",
              "    .dataframe tbody tr th {\n",
              "        vertical-align: top;\n",
              "    }\n",
              "\n",
              "    .dataframe thead th {\n",
              "        text-align: right;\n",
              "    }\n",
              "</style>\n",
              "<table border=\"1\" class=\"dataframe\">\n",
              "  <thead>\n",
              "    <tr style=\"text-align: right;\">\n",
              "      <th></th>\n",
              "      <th>CNT</th>\n",
              "      <th>ST004D01T</th>\n",
              "      <th>ESCS</th>\n",
              "      <th>UNDREM</th>\n",
              "      <th>METASUM</th>\n",
              "      <th>METASPAM</th>\n",
              "      <th>ICTHOME</th>\n",
              "      <th>ICTSCH</th>\n",
              "      <th>HOMEPOS</th>\n",
              "      <th>CULTPOSS</th>\n",
              "      <th>HEDRES</th>\n",
              "      <th>WEALTH</th>\n",
              "      <th>ICTRES</th>\n",
              "      <th>DISCLIMA</th>\n",
              "      <th>TEACHSUP</th>\n",
              "      <th>DIRINS</th>\n",
              "      <th>PERFEED</th>\n",
              "      <th>EMOSUPS</th>\n",
              "      <th>STIMREAD</th>\n",
              "      <th>ADAPTIVITY</th>\n",
              "    </tr>\n",
              "  </thead>\n",
              "  <tbody>\n",
              "    <tr>\n",
              "      <th>0</th>\n",
              "      <td>AUS</td>\n",
              "      <td>1</td>\n",
              "      <td>1.3151</td>\n",
              "      <td>1.50</td>\n",
              "      <td>0.59</td>\n",
              "      <td>0.42</td>\n",
              "      <td>11</td>\n",
              "      <td>9</td>\n",
              "      <td>2.2767</td>\n",
              "      <td>1.1953</td>\n",
              "      <td>1.1793</td>\n",
              "      <td>2.3106</td>\n",
              "      <td>1.8669</td>\n",
              "      <td>2.0345</td>\n",
              "      <td>1.3140</td>\n",
              "      <td>1.8202</td>\n",
              "      <td>2.0165</td>\n",
              "      <td>0.6402</td>\n",
              "      <td>0.8980</td>\n",
              "      <td>0.5464</td>\n",
              "    </tr>\n",
              "    <tr>\n",
              "      <th>1</th>\n",
              "      <td>AUS</td>\n",
              "      <td>2</td>\n",
              "      <td>1.3151</td>\n",
              "      <td>1.50</td>\n",
              "      <td>-0.18</td>\n",
              "      <td>1.33</td>\n",
              "      <td>9</td>\n",
              "      <td>7</td>\n",
              "      <td>1.2442</td>\n",
              "      <td>2.0078</td>\n",
              "      <td>1.1793</td>\n",
              "      <td>0.4222</td>\n",
              "      <td>0.0595</td>\n",
              "      <td>1.0294</td>\n",
              "      <td>-0.6262</td>\n",
              "      <td>-0.5066</td>\n",
              "      <td>0.5121</td>\n",
              "      <td>0.2127</td>\n",
              "      <td>0.5135</td>\n",
              "      <td>0.4572</td>\n",
              "    </tr>\n",
              "    <tr>\n",
              "      <th>2</th>\n",
              "      <td>AUS</td>\n",
              "      <td>1</td>\n",
              "      <td>1.3152</td>\n",
              "      <td>0.80</td>\n",
              "      <td>0.98</td>\n",
              "      <td>0.42</td>\n",
              "      <td>9</td>\n",
              "      <td>4</td>\n",
              "      <td>1.2414</td>\n",
              "      <td>1.9141</td>\n",
              "      <td>1.1793</td>\n",
              "      <td>0.2830</td>\n",
              "      <td>0.333</td>\n",
              "      <td>-2.0985</td>\n",
              "      <td>0.0297</td>\n",
              "      <td>-0.4616</td>\n",
              "      <td>0.7743</td>\n",
              "      <td>1.0346</td>\n",
              "      <td>-0.2336</td>\n",
              "      <td>-0.1687</td>\n",
              "    </tr>\n",
              "    <tr>\n",
              "      <th>3</th>\n",
              "      <td>AUS</td>\n",
              "      <td>1</td>\n",
              "      <td>1.3152</td>\n",
              "      <td>-0.25</td>\n",
              "      <td>0.59</td>\n",
              "      <td>0.87</td>\n",
              "      <td>11</td>\n",
              "      <td>8</td>\n",
              "      <td>1.7578</td>\n",
              "      <td>1.5917</td>\n",
              "      <td>1.1793</td>\n",
              "      <td>1.0705</td>\n",
              "      <td>2.6563</td>\n",
              "      <td>0.4922</td>\n",
              "      <td>-0.8998</td>\n",
              "      <td>-1.0493</td>\n",
              "      <td>0.2012</td>\n",
              "      <td>1.0346</td>\n",
              "      <td>0.0236</td>\n",
              "      <td>-0.1716</td>\n",
              "    </tr>\n",
              "    <tr>\n",
              "      <th>4</th>\n",
              "      <td>AUS</td>\n",
              "      <td>2</td>\n",
              "      <td>1.3152</td>\n",
              "      <td>-0.25</td>\n",
              "      <td>0.59</td>\n",
              "      <td>1.33</td>\n",
              "      <td>8</td>\n",
              "      <td>9</td>\n",
              "      <td>1.2395</td>\n",
              "      <td>1.3941</td>\n",
              "      <td>1.1793</td>\n",
              "      <td>1.0975</td>\n",
              "      <td>0.3692</td>\n",
              "      <td>0.3529</td>\n",
              "      <td>1.3140</td>\n",
              "      <td>0.6532</td>\n",
              "      <td>0.9044</td>\n",
              "      <td>-0.6576</td>\n",
              "      <td>-0.2336</td>\n",
              "      <td>1.3230</td>\n",
              "    </tr>\n",
              "  </tbody>\n",
              "</table>\n",
              "</div>\n",
              "      <button class=\"colab-df-convert\" onclick=\"convertToInteractive('df-18415ff1-3916-4157-b06b-44cf50c9e00c')\"\n",
              "              title=\"Convert this dataframe to an interactive table.\"\n",
              "              style=\"display:none;\">\n",
              "        \n",
              "  <svg xmlns=\"http://www.w3.org/2000/svg\" height=\"24px\"viewBox=\"0 0 24 24\"\n",
              "       width=\"24px\">\n",
              "    <path d=\"M0 0h24v24H0V0z\" fill=\"none\"/>\n",
              "    <path d=\"M18.56 5.44l.94 2.06.94-2.06 2.06-.94-2.06-.94-.94-2.06-.94 2.06-2.06.94zm-11 1L8.5 8.5l.94-2.06 2.06-.94-2.06-.94L8.5 2.5l-.94 2.06-2.06.94zm10 10l.94 2.06.94-2.06 2.06-.94-2.06-.94-.94-2.06-.94 2.06-2.06.94z\"/><path d=\"M17.41 7.96l-1.37-1.37c-.4-.4-.92-.59-1.43-.59-.52 0-1.04.2-1.43.59L10.3 9.45l-7.72 7.72c-.78.78-.78 2.05 0 2.83L4 21.41c.39.39.9.59 1.41.59.51 0 1.02-.2 1.41-.59l7.78-7.78 2.81-2.81c.8-.78.8-2.07 0-2.86zM5.41 20L4 18.59l7.72-7.72 1.47 1.35L5.41 20z\"/>\n",
              "  </svg>\n",
              "      </button>\n",
              "      \n",
              "  <style>\n",
              "    .colab-df-container {\n",
              "      display:flex;\n",
              "      flex-wrap:wrap;\n",
              "      gap: 12px;\n",
              "    }\n",
              "\n",
              "    .colab-df-convert {\n",
              "      background-color: #E8F0FE;\n",
              "      border: none;\n",
              "      border-radius: 50%;\n",
              "      cursor: pointer;\n",
              "      display: none;\n",
              "      fill: #1967D2;\n",
              "      height: 32px;\n",
              "      padding: 0 0 0 0;\n",
              "      width: 32px;\n",
              "    }\n",
              "\n",
              "    .colab-df-convert:hover {\n",
              "      background-color: #E2EBFA;\n",
              "      box-shadow: 0px 1px 2px rgba(60, 64, 67, 0.3), 0px 1px 3px 1px rgba(60, 64, 67, 0.15);\n",
              "      fill: #174EA6;\n",
              "    }\n",
              "\n",
              "    [theme=dark] .colab-df-convert {\n",
              "      background-color: #3B4455;\n",
              "      fill: #D2E3FC;\n",
              "    }\n",
              "\n",
              "    [theme=dark] .colab-df-convert:hover {\n",
              "      background-color: #434B5C;\n",
              "      box-shadow: 0px 1px 3px 1px rgba(0, 0, 0, 0.15);\n",
              "      filter: drop-shadow(0px 1px 2px rgba(0, 0, 0, 0.3));\n",
              "      fill: #FFFFFF;\n",
              "    }\n",
              "  </style>\n",
              "\n",
              "      <script>\n",
              "        const buttonEl =\n",
              "          document.querySelector('#df-18415ff1-3916-4157-b06b-44cf50c9e00c button.colab-df-convert');\n",
              "        buttonEl.style.display =\n",
              "          google.colab.kernel.accessAllowed ? 'block' : 'none';\n",
              "\n",
              "        async function convertToInteractive(key) {\n",
              "          const element = document.querySelector('#df-18415ff1-3916-4157-b06b-44cf50c9e00c');\n",
              "          const dataTable =\n",
              "            await google.colab.kernel.invokeFunction('convertToInteractive',\n",
              "                                                     [key], {});\n",
              "          if (!dataTable) return;\n",
              "\n",
              "          const docLinkHtml = 'Like what you see? Visit the ' +\n",
              "            '<a target=\"_blank\" href=https://colab.research.google.com/notebooks/data_table.ipynb>data table notebook</a>'\n",
              "            + ' to learn more about interactive tables.';\n",
              "          element.innerHTML = '';\n",
              "          dataTable['output_type'] = 'display_data';\n",
              "          await google.colab.output.renderOutput(dataTable, element);\n",
              "          const docLink = document.createElement('div');\n",
              "          docLink.innerHTML = docLinkHtml;\n",
              "          element.appendChild(docLink);\n",
              "        }\n",
              "      </script>\n",
              "    </div>\n",
              "  </div>\n",
              "  "
            ]
          },
          "metadata": {},
          "execution_count": 91
        }
      ],
      "source": [
        "import pandas as pd\n",
        "import numpy as np\n",
        "import matplotlib.pyplot as plt\n",
        "import seaborn as sns\n",
        "\n",
        "df = pd.read_excel(\"data.xlsx\")\n",
        "df.head()\n"
      ]
    },
    {
      "cell_type": "code",
      "source": [
        "# ICTSCH değişkeni için ortalama değerimizi hesapladık.\n",
        "\n",
        "df[\"ICTSCH\"].mean()"
      ],
      "metadata": {
        "colab": {
          "base_uri": "https://localhost:8080/"
        },
        "id": "i1QvCfJsk7vI",
        "outputId": "05c13d8e-936b-4a58-9183-0c3ad014fb0d"
      },
      "execution_count": 92,
      "outputs": [
        {
          "output_type": "execute_result",
          "data": {
            "text/plain": [
              "6.484499629964641"
            ]
          },
          "metadata": {},
          "execution_count": 92
        }
      ]
    },
    {
      "cell_type": "code",
      "source": [
        "# 6.48 sayısını tam sayı olarak 6 kabul ettik ve 6 dan büyük olan değerler 1 küçük olan değerleri 0 olarak güncelledik.\n",
        "\n",
        "df[\"ICTSCH\"] = np.where(df[\"ICTSCH\"] > 6, 1, 0)\n",
        "df.head()"
      ],
      "metadata": {
        "colab": {
          "base_uri": "https://localhost:8080/",
          "height": 250
        },
        "id": "jOe-7MNVlNvi",
        "outputId": "443062e5-b25a-46a0-f5ba-3be53be4dcbf"
      },
      "execution_count": 93,
      "outputs": [
        {
          "output_type": "execute_result",
          "data": {
            "text/plain": [
              "   CNT  ST004D01T    ESCS  UNDREM  METASUM  METASPAM  ICTHOME  ICTSCH  \\\n",
              "0  AUS          1  1.3151    1.50     0.59      0.42       11       1   \n",
              "1  AUS          2  1.3151    1.50    -0.18      1.33        9       1   \n",
              "2  AUS          1  1.3152    0.80     0.98      0.42        9       0   \n",
              "3  AUS          1  1.3152   -0.25     0.59      0.87       11       1   \n",
              "4  AUS          2  1.3152   -0.25     0.59      1.33        8       1   \n",
              "\n",
              "   HOMEPOS  CULTPOSS  HEDRES  WEALTH  ICTRES  DISCLIMA  TEACHSUP  DIRINS  \\\n",
              "0   2.2767    1.1953  1.1793  2.3106  1.8669    2.0345    1.3140  1.8202   \n",
              "1   1.2442    2.0078  1.1793  0.4222  0.0595    1.0294   -0.6262 -0.5066   \n",
              "2   1.2414    1.9141  1.1793  0.2830   0.333   -2.0985    0.0297 -0.4616   \n",
              "3   1.7578    1.5917  1.1793  1.0705  2.6563    0.4922   -0.8998 -1.0493   \n",
              "4   1.2395    1.3941  1.1793  1.0975  0.3692    0.3529    1.3140  0.6532   \n",
              "\n",
              "   PERFEED  EMOSUPS  STIMREAD  ADAPTIVITY  \n",
              "0   2.0165   0.6402    0.8980      0.5464  \n",
              "1   0.5121   0.2127    0.5135      0.4572  \n",
              "2   0.7743   1.0346   -0.2336     -0.1687  \n",
              "3   0.2012   1.0346    0.0236     -0.1716  \n",
              "4   0.9044  -0.6576   -0.2336      1.3230  "
            ],
            "text/html": [
              "\n",
              "  <div id=\"df-fcaeb98e-6a52-4dc8-8320-a923c38e0457\">\n",
              "    <div class=\"colab-df-container\">\n",
              "      <div>\n",
              "<style scoped>\n",
              "    .dataframe tbody tr th:only-of-type {\n",
              "        vertical-align: middle;\n",
              "    }\n",
              "\n",
              "    .dataframe tbody tr th {\n",
              "        vertical-align: top;\n",
              "    }\n",
              "\n",
              "    .dataframe thead th {\n",
              "        text-align: right;\n",
              "    }\n",
              "</style>\n",
              "<table border=\"1\" class=\"dataframe\">\n",
              "  <thead>\n",
              "    <tr style=\"text-align: right;\">\n",
              "      <th></th>\n",
              "      <th>CNT</th>\n",
              "      <th>ST004D01T</th>\n",
              "      <th>ESCS</th>\n",
              "      <th>UNDREM</th>\n",
              "      <th>METASUM</th>\n",
              "      <th>METASPAM</th>\n",
              "      <th>ICTHOME</th>\n",
              "      <th>ICTSCH</th>\n",
              "      <th>HOMEPOS</th>\n",
              "      <th>CULTPOSS</th>\n",
              "      <th>HEDRES</th>\n",
              "      <th>WEALTH</th>\n",
              "      <th>ICTRES</th>\n",
              "      <th>DISCLIMA</th>\n",
              "      <th>TEACHSUP</th>\n",
              "      <th>DIRINS</th>\n",
              "      <th>PERFEED</th>\n",
              "      <th>EMOSUPS</th>\n",
              "      <th>STIMREAD</th>\n",
              "      <th>ADAPTIVITY</th>\n",
              "    </tr>\n",
              "  </thead>\n",
              "  <tbody>\n",
              "    <tr>\n",
              "      <th>0</th>\n",
              "      <td>AUS</td>\n",
              "      <td>1</td>\n",
              "      <td>1.3151</td>\n",
              "      <td>1.50</td>\n",
              "      <td>0.59</td>\n",
              "      <td>0.42</td>\n",
              "      <td>11</td>\n",
              "      <td>1</td>\n",
              "      <td>2.2767</td>\n",
              "      <td>1.1953</td>\n",
              "      <td>1.1793</td>\n",
              "      <td>2.3106</td>\n",
              "      <td>1.8669</td>\n",
              "      <td>2.0345</td>\n",
              "      <td>1.3140</td>\n",
              "      <td>1.8202</td>\n",
              "      <td>2.0165</td>\n",
              "      <td>0.6402</td>\n",
              "      <td>0.8980</td>\n",
              "      <td>0.5464</td>\n",
              "    </tr>\n",
              "    <tr>\n",
              "      <th>1</th>\n",
              "      <td>AUS</td>\n",
              "      <td>2</td>\n",
              "      <td>1.3151</td>\n",
              "      <td>1.50</td>\n",
              "      <td>-0.18</td>\n",
              "      <td>1.33</td>\n",
              "      <td>9</td>\n",
              "      <td>1</td>\n",
              "      <td>1.2442</td>\n",
              "      <td>2.0078</td>\n",
              "      <td>1.1793</td>\n",
              "      <td>0.4222</td>\n",
              "      <td>0.0595</td>\n",
              "      <td>1.0294</td>\n",
              "      <td>-0.6262</td>\n",
              "      <td>-0.5066</td>\n",
              "      <td>0.5121</td>\n",
              "      <td>0.2127</td>\n",
              "      <td>0.5135</td>\n",
              "      <td>0.4572</td>\n",
              "    </tr>\n",
              "    <tr>\n",
              "      <th>2</th>\n",
              "      <td>AUS</td>\n",
              "      <td>1</td>\n",
              "      <td>1.3152</td>\n",
              "      <td>0.80</td>\n",
              "      <td>0.98</td>\n",
              "      <td>0.42</td>\n",
              "      <td>9</td>\n",
              "      <td>0</td>\n",
              "      <td>1.2414</td>\n",
              "      <td>1.9141</td>\n",
              "      <td>1.1793</td>\n",
              "      <td>0.2830</td>\n",
              "      <td>0.333</td>\n",
              "      <td>-2.0985</td>\n",
              "      <td>0.0297</td>\n",
              "      <td>-0.4616</td>\n",
              "      <td>0.7743</td>\n",
              "      <td>1.0346</td>\n",
              "      <td>-0.2336</td>\n",
              "      <td>-0.1687</td>\n",
              "    </tr>\n",
              "    <tr>\n",
              "      <th>3</th>\n",
              "      <td>AUS</td>\n",
              "      <td>1</td>\n",
              "      <td>1.3152</td>\n",
              "      <td>-0.25</td>\n",
              "      <td>0.59</td>\n",
              "      <td>0.87</td>\n",
              "      <td>11</td>\n",
              "      <td>1</td>\n",
              "      <td>1.7578</td>\n",
              "      <td>1.5917</td>\n",
              "      <td>1.1793</td>\n",
              "      <td>1.0705</td>\n",
              "      <td>2.6563</td>\n",
              "      <td>0.4922</td>\n",
              "      <td>-0.8998</td>\n",
              "      <td>-1.0493</td>\n",
              "      <td>0.2012</td>\n",
              "      <td>1.0346</td>\n",
              "      <td>0.0236</td>\n",
              "      <td>-0.1716</td>\n",
              "    </tr>\n",
              "    <tr>\n",
              "      <th>4</th>\n",
              "      <td>AUS</td>\n",
              "      <td>2</td>\n",
              "      <td>1.3152</td>\n",
              "      <td>-0.25</td>\n",
              "      <td>0.59</td>\n",
              "      <td>1.33</td>\n",
              "      <td>8</td>\n",
              "      <td>1</td>\n",
              "      <td>1.2395</td>\n",
              "      <td>1.3941</td>\n",
              "      <td>1.1793</td>\n",
              "      <td>1.0975</td>\n",
              "      <td>0.3692</td>\n",
              "      <td>0.3529</td>\n",
              "      <td>1.3140</td>\n",
              "      <td>0.6532</td>\n",
              "      <td>0.9044</td>\n",
              "      <td>-0.6576</td>\n",
              "      <td>-0.2336</td>\n",
              "      <td>1.3230</td>\n",
              "    </tr>\n",
              "  </tbody>\n",
              "</table>\n",
              "</div>\n",
              "      <button class=\"colab-df-convert\" onclick=\"convertToInteractive('df-fcaeb98e-6a52-4dc8-8320-a923c38e0457')\"\n",
              "              title=\"Convert this dataframe to an interactive table.\"\n",
              "              style=\"display:none;\">\n",
              "        \n",
              "  <svg xmlns=\"http://www.w3.org/2000/svg\" height=\"24px\"viewBox=\"0 0 24 24\"\n",
              "       width=\"24px\">\n",
              "    <path d=\"M0 0h24v24H0V0z\" fill=\"none\"/>\n",
              "    <path d=\"M18.56 5.44l.94 2.06.94-2.06 2.06-.94-2.06-.94-.94-2.06-.94 2.06-2.06.94zm-11 1L8.5 8.5l.94-2.06 2.06-.94-2.06-.94L8.5 2.5l-.94 2.06-2.06.94zm10 10l.94 2.06.94-2.06 2.06-.94-2.06-.94-.94-2.06-.94 2.06-2.06.94z\"/><path d=\"M17.41 7.96l-1.37-1.37c-.4-.4-.92-.59-1.43-.59-.52 0-1.04.2-1.43.59L10.3 9.45l-7.72 7.72c-.78.78-.78 2.05 0 2.83L4 21.41c.39.39.9.59 1.41.59.51 0 1.02-.2 1.41-.59l7.78-7.78 2.81-2.81c.8-.78.8-2.07 0-2.86zM5.41 20L4 18.59l7.72-7.72 1.47 1.35L5.41 20z\"/>\n",
              "  </svg>\n",
              "      </button>\n",
              "      \n",
              "  <style>\n",
              "    .colab-df-container {\n",
              "      display:flex;\n",
              "      flex-wrap:wrap;\n",
              "      gap: 12px;\n",
              "    }\n",
              "\n",
              "    .colab-df-convert {\n",
              "      background-color: #E8F0FE;\n",
              "      border: none;\n",
              "      border-radius: 50%;\n",
              "      cursor: pointer;\n",
              "      display: none;\n",
              "      fill: #1967D2;\n",
              "      height: 32px;\n",
              "      padding: 0 0 0 0;\n",
              "      width: 32px;\n",
              "    }\n",
              "\n",
              "    .colab-df-convert:hover {\n",
              "      background-color: #E2EBFA;\n",
              "      box-shadow: 0px 1px 2px rgba(60, 64, 67, 0.3), 0px 1px 3px 1px rgba(60, 64, 67, 0.15);\n",
              "      fill: #174EA6;\n",
              "    }\n",
              "\n",
              "    [theme=dark] .colab-df-convert {\n",
              "      background-color: #3B4455;\n",
              "      fill: #D2E3FC;\n",
              "    }\n",
              "\n",
              "    [theme=dark] .colab-df-convert:hover {\n",
              "      background-color: #434B5C;\n",
              "      box-shadow: 0px 1px 3px 1px rgba(0, 0, 0, 0.15);\n",
              "      filter: drop-shadow(0px 1px 2px rgba(0, 0, 0, 0.3));\n",
              "      fill: #FFFFFF;\n",
              "    }\n",
              "  </style>\n",
              "\n",
              "      <script>\n",
              "        const buttonEl =\n",
              "          document.querySelector('#df-fcaeb98e-6a52-4dc8-8320-a923c38e0457 button.colab-df-convert');\n",
              "        buttonEl.style.display =\n",
              "          google.colab.kernel.accessAllowed ? 'block' : 'none';\n",
              "\n",
              "        async function convertToInteractive(key) {\n",
              "          const element = document.querySelector('#df-fcaeb98e-6a52-4dc8-8320-a923c38e0457');\n",
              "          const dataTable =\n",
              "            await google.colab.kernel.invokeFunction('convertToInteractive',\n",
              "                                                     [key], {});\n",
              "          if (!dataTable) return;\n",
              "\n",
              "          const docLinkHtml = 'Like what you see? Visit the ' +\n",
              "            '<a target=\"_blank\" href=https://colab.research.google.com/notebooks/data_table.ipynb>data table notebook</a>'\n",
              "            + ' to learn more about interactive tables.';\n",
              "          element.innerHTML = '';\n",
              "          dataTable['output_type'] = 'display_data';\n",
              "          await google.colab.output.renderOutput(dataTable, element);\n",
              "          const docLink = document.createElement('div');\n",
              "          docLink.innerHTML = docLinkHtml;\n",
              "          element.appendChild(docLink);\n",
              "        }\n",
              "      </script>\n",
              "    </div>\n",
              "  </div>\n",
              "  "
            ]
          },
          "metadata": {},
          "execution_count": 93
        }
      ]
    },
    {
      "cell_type": "code",
      "source": [
        "# ICTSCH sütunumuzu eski değerleri yerine 1 ve 0 olarak güncelledik.\n",
        "\n",
        "df.to_excel(\"data2.xlsx\")"
      ],
      "metadata": {
        "id": "4cij8abnlWt6"
      },
      "execution_count": 94,
      "outputs": []
    },
    {
      "cell_type": "code",
      "source": [
        "# 1 ve 0 olarak güncellenen yeni datamızı data2 olarak kaydedip df_hazir değişkenine atadık. Bundan sonra logistic regresyonumuz bu dataframe üzerinden gerçekleşecek.\n",
        "\n",
        "df_hazir = pd.read_excel(\"data2.xlsx\")\n",
        "df_hazir.head()"
      ],
      "metadata": {
        "colab": {
          "base_uri": "https://localhost:8080/",
          "height": 297
        },
        "id": "1awFF77mlnwC",
        "outputId": "d85fa185-cff0-4e3d-e783-2035cc1f0167"
      },
      "execution_count": 95,
      "outputs": [
        {
          "output_type": "execute_result",
          "data": {
            "text/plain": [
              "   Unnamed: 0  CNT  ST004D01T    ESCS  UNDREM  METASUM  METASPAM  ICTHOME  \\\n",
              "0           0  AUS          1  1.3151    1.50     0.59      0.42       11   \n",
              "1           1  AUS          2  1.3151    1.50    -0.18      1.33        9   \n",
              "2           2  AUS          1  1.3152    0.80     0.98      0.42        9   \n",
              "3           3  AUS          1  1.3152   -0.25     0.59      0.87       11   \n",
              "4           4  AUS          2  1.3152   -0.25     0.59      1.33        8   \n",
              "\n",
              "   ICTSCH  HOMEPOS  ...  HEDRES  WEALTH  ICTRES DISCLIMA  TEACHSUP  DIRINS  \\\n",
              "0       1   2.2767  ...  1.1793  2.3106  1.8669   2.0345    1.3140  1.8202   \n",
              "1       1   1.2442  ...  1.1793  0.4222  0.0595   1.0294   -0.6262 -0.5066   \n",
              "2       0   1.2414  ...  1.1793  0.2830   0.333  -2.0985    0.0297 -0.4616   \n",
              "3       1   1.7578  ...  1.1793  1.0705  2.6563   0.4922   -0.8998 -1.0493   \n",
              "4       1   1.2395  ...  1.1793  1.0975  0.3692   0.3529    1.3140  0.6532   \n",
              "\n",
              "   PERFEED  EMOSUPS  STIMREAD  ADAPTIVITY  \n",
              "0   2.0165   0.6402    0.8980      0.5464  \n",
              "1   0.5121   0.2127    0.5135      0.4572  \n",
              "2   0.7743   1.0346   -0.2336     -0.1687  \n",
              "3   0.2012   1.0346    0.0236     -0.1716  \n",
              "4   0.9044  -0.6576   -0.2336      1.3230  \n",
              "\n",
              "[5 rows x 21 columns]"
            ],
            "text/html": [
              "\n",
              "  <div id=\"df-e008861c-f391-4ad6-9e5f-ffbd74ac5e41\">\n",
              "    <div class=\"colab-df-container\">\n",
              "      <div>\n",
              "<style scoped>\n",
              "    .dataframe tbody tr th:only-of-type {\n",
              "        vertical-align: middle;\n",
              "    }\n",
              "\n",
              "    .dataframe tbody tr th {\n",
              "        vertical-align: top;\n",
              "    }\n",
              "\n",
              "    .dataframe thead th {\n",
              "        text-align: right;\n",
              "    }\n",
              "</style>\n",
              "<table border=\"1\" class=\"dataframe\">\n",
              "  <thead>\n",
              "    <tr style=\"text-align: right;\">\n",
              "      <th></th>\n",
              "      <th>Unnamed: 0</th>\n",
              "      <th>CNT</th>\n",
              "      <th>ST004D01T</th>\n",
              "      <th>ESCS</th>\n",
              "      <th>UNDREM</th>\n",
              "      <th>METASUM</th>\n",
              "      <th>METASPAM</th>\n",
              "      <th>ICTHOME</th>\n",
              "      <th>ICTSCH</th>\n",
              "      <th>HOMEPOS</th>\n",
              "      <th>...</th>\n",
              "      <th>HEDRES</th>\n",
              "      <th>WEALTH</th>\n",
              "      <th>ICTRES</th>\n",
              "      <th>DISCLIMA</th>\n",
              "      <th>TEACHSUP</th>\n",
              "      <th>DIRINS</th>\n",
              "      <th>PERFEED</th>\n",
              "      <th>EMOSUPS</th>\n",
              "      <th>STIMREAD</th>\n",
              "      <th>ADAPTIVITY</th>\n",
              "    </tr>\n",
              "  </thead>\n",
              "  <tbody>\n",
              "    <tr>\n",
              "      <th>0</th>\n",
              "      <td>0</td>\n",
              "      <td>AUS</td>\n",
              "      <td>1</td>\n",
              "      <td>1.3151</td>\n",
              "      <td>1.50</td>\n",
              "      <td>0.59</td>\n",
              "      <td>0.42</td>\n",
              "      <td>11</td>\n",
              "      <td>1</td>\n",
              "      <td>2.2767</td>\n",
              "      <td>...</td>\n",
              "      <td>1.1793</td>\n",
              "      <td>2.3106</td>\n",
              "      <td>1.8669</td>\n",
              "      <td>2.0345</td>\n",
              "      <td>1.3140</td>\n",
              "      <td>1.8202</td>\n",
              "      <td>2.0165</td>\n",
              "      <td>0.6402</td>\n",
              "      <td>0.8980</td>\n",
              "      <td>0.5464</td>\n",
              "    </tr>\n",
              "    <tr>\n",
              "      <th>1</th>\n",
              "      <td>1</td>\n",
              "      <td>AUS</td>\n",
              "      <td>2</td>\n",
              "      <td>1.3151</td>\n",
              "      <td>1.50</td>\n",
              "      <td>-0.18</td>\n",
              "      <td>1.33</td>\n",
              "      <td>9</td>\n",
              "      <td>1</td>\n",
              "      <td>1.2442</td>\n",
              "      <td>...</td>\n",
              "      <td>1.1793</td>\n",
              "      <td>0.4222</td>\n",
              "      <td>0.0595</td>\n",
              "      <td>1.0294</td>\n",
              "      <td>-0.6262</td>\n",
              "      <td>-0.5066</td>\n",
              "      <td>0.5121</td>\n",
              "      <td>0.2127</td>\n",
              "      <td>0.5135</td>\n",
              "      <td>0.4572</td>\n",
              "    </tr>\n",
              "    <tr>\n",
              "      <th>2</th>\n",
              "      <td>2</td>\n",
              "      <td>AUS</td>\n",
              "      <td>1</td>\n",
              "      <td>1.3152</td>\n",
              "      <td>0.80</td>\n",
              "      <td>0.98</td>\n",
              "      <td>0.42</td>\n",
              "      <td>9</td>\n",
              "      <td>0</td>\n",
              "      <td>1.2414</td>\n",
              "      <td>...</td>\n",
              "      <td>1.1793</td>\n",
              "      <td>0.2830</td>\n",
              "      <td>0.333</td>\n",
              "      <td>-2.0985</td>\n",
              "      <td>0.0297</td>\n",
              "      <td>-0.4616</td>\n",
              "      <td>0.7743</td>\n",
              "      <td>1.0346</td>\n",
              "      <td>-0.2336</td>\n",
              "      <td>-0.1687</td>\n",
              "    </tr>\n",
              "    <tr>\n",
              "      <th>3</th>\n",
              "      <td>3</td>\n",
              "      <td>AUS</td>\n",
              "      <td>1</td>\n",
              "      <td>1.3152</td>\n",
              "      <td>-0.25</td>\n",
              "      <td>0.59</td>\n",
              "      <td>0.87</td>\n",
              "      <td>11</td>\n",
              "      <td>1</td>\n",
              "      <td>1.7578</td>\n",
              "      <td>...</td>\n",
              "      <td>1.1793</td>\n",
              "      <td>1.0705</td>\n",
              "      <td>2.6563</td>\n",
              "      <td>0.4922</td>\n",
              "      <td>-0.8998</td>\n",
              "      <td>-1.0493</td>\n",
              "      <td>0.2012</td>\n",
              "      <td>1.0346</td>\n",
              "      <td>0.0236</td>\n",
              "      <td>-0.1716</td>\n",
              "    </tr>\n",
              "    <tr>\n",
              "      <th>4</th>\n",
              "      <td>4</td>\n",
              "      <td>AUS</td>\n",
              "      <td>2</td>\n",
              "      <td>1.3152</td>\n",
              "      <td>-0.25</td>\n",
              "      <td>0.59</td>\n",
              "      <td>1.33</td>\n",
              "      <td>8</td>\n",
              "      <td>1</td>\n",
              "      <td>1.2395</td>\n",
              "      <td>...</td>\n",
              "      <td>1.1793</td>\n",
              "      <td>1.0975</td>\n",
              "      <td>0.3692</td>\n",
              "      <td>0.3529</td>\n",
              "      <td>1.3140</td>\n",
              "      <td>0.6532</td>\n",
              "      <td>0.9044</td>\n",
              "      <td>-0.6576</td>\n",
              "      <td>-0.2336</td>\n",
              "      <td>1.3230</td>\n",
              "    </tr>\n",
              "  </tbody>\n",
              "</table>\n",
              "<p>5 rows × 21 columns</p>\n",
              "</div>\n",
              "      <button class=\"colab-df-convert\" onclick=\"convertToInteractive('df-e008861c-f391-4ad6-9e5f-ffbd74ac5e41')\"\n",
              "              title=\"Convert this dataframe to an interactive table.\"\n",
              "              style=\"display:none;\">\n",
              "        \n",
              "  <svg xmlns=\"http://www.w3.org/2000/svg\" height=\"24px\"viewBox=\"0 0 24 24\"\n",
              "       width=\"24px\">\n",
              "    <path d=\"M0 0h24v24H0V0z\" fill=\"none\"/>\n",
              "    <path d=\"M18.56 5.44l.94 2.06.94-2.06 2.06-.94-2.06-.94-.94-2.06-.94 2.06-2.06.94zm-11 1L8.5 8.5l.94-2.06 2.06-.94-2.06-.94L8.5 2.5l-.94 2.06-2.06.94zm10 10l.94 2.06.94-2.06 2.06-.94-2.06-.94-.94-2.06-.94 2.06-2.06.94z\"/><path d=\"M17.41 7.96l-1.37-1.37c-.4-.4-.92-.59-1.43-.59-.52 0-1.04.2-1.43.59L10.3 9.45l-7.72 7.72c-.78.78-.78 2.05 0 2.83L4 21.41c.39.39.9.59 1.41.59.51 0 1.02-.2 1.41-.59l7.78-7.78 2.81-2.81c.8-.78.8-2.07 0-2.86zM5.41 20L4 18.59l7.72-7.72 1.47 1.35L5.41 20z\"/>\n",
              "  </svg>\n",
              "      </button>\n",
              "      \n",
              "  <style>\n",
              "    .colab-df-container {\n",
              "      display:flex;\n",
              "      flex-wrap:wrap;\n",
              "      gap: 12px;\n",
              "    }\n",
              "\n",
              "    .colab-df-convert {\n",
              "      background-color: #E8F0FE;\n",
              "      border: none;\n",
              "      border-radius: 50%;\n",
              "      cursor: pointer;\n",
              "      display: none;\n",
              "      fill: #1967D2;\n",
              "      height: 32px;\n",
              "      padding: 0 0 0 0;\n",
              "      width: 32px;\n",
              "    }\n",
              "\n",
              "    .colab-df-convert:hover {\n",
              "      background-color: #E2EBFA;\n",
              "      box-shadow: 0px 1px 2px rgba(60, 64, 67, 0.3), 0px 1px 3px 1px rgba(60, 64, 67, 0.15);\n",
              "      fill: #174EA6;\n",
              "    }\n",
              "\n",
              "    [theme=dark] .colab-df-convert {\n",
              "      background-color: #3B4455;\n",
              "      fill: #D2E3FC;\n",
              "    }\n",
              "\n",
              "    [theme=dark] .colab-df-convert:hover {\n",
              "      background-color: #434B5C;\n",
              "      box-shadow: 0px 1px 3px 1px rgba(0, 0, 0, 0.15);\n",
              "      filter: drop-shadow(0px 1px 2px rgba(0, 0, 0, 0.3));\n",
              "      fill: #FFFFFF;\n",
              "    }\n",
              "  </style>\n",
              "\n",
              "      <script>\n",
              "        const buttonEl =\n",
              "          document.querySelector('#df-e008861c-f391-4ad6-9e5f-ffbd74ac5e41 button.colab-df-convert');\n",
              "        buttonEl.style.display =\n",
              "          google.colab.kernel.accessAllowed ? 'block' : 'none';\n",
              "\n",
              "        async function convertToInteractive(key) {\n",
              "          const element = document.querySelector('#df-e008861c-f391-4ad6-9e5f-ffbd74ac5e41');\n",
              "          const dataTable =\n",
              "            await google.colab.kernel.invokeFunction('convertToInteractive',\n",
              "                                                     [key], {});\n",
              "          if (!dataTable) return;\n",
              "\n",
              "          const docLinkHtml = 'Like what you see? Visit the ' +\n",
              "            '<a target=\"_blank\" href=https://colab.research.google.com/notebooks/data_table.ipynb>data table notebook</a>'\n",
              "            + ' to learn more about interactive tables.';\n",
              "          element.innerHTML = '';\n",
              "          dataTable['output_type'] = 'display_data';\n",
              "          await google.colab.output.renderOutput(dataTable, element);\n",
              "          const docLink = document.createElement('div');\n",
              "          docLink.innerHTML = docLinkHtml;\n",
              "          element.appendChild(docLink);\n",
              "        }\n",
              "      </script>\n",
              "    </div>\n",
              "  </div>\n",
              "  "
            ]
          },
          "metadata": {},
          "execution_count": 95
        }
      ]
    },
    {
      "cell_type": "code",
      "source": [
        "#  x= PERFEED, HEDRES, y= ICTSCH olacak şekilde logistic regression modeli kuralım\n",
        "\n",
        "from sklearn.linear_model import LogisticRegression\n",
        "from sklearn.model_selection import train_test_split\n",
        "\n",
        "X = df_hazir[[\"PERFEED\", \"HEDRES\"]]\n",
        "y = df_hazir[\"ICTSCH\"]"
      ],
      "metadata": {
        "id": "1x3jy_o-mwYQ"
      },
      "execution_count": 96,
      "outputs": []
    },
    {
      "cell_type": "code",
      "source": [
        "print(X)\n",
        "print(y)"
      ],
      "metadata": {
        "colab": {
          "base_uri": "https://localhost:8080/"
        },
        "id": "ZDrxasE6myH6",
        "outputId": "d7f211fe-bd3e-402a-c2ee-f3a7e02ac5c4"
      },
      "execution_count": 97,
      "outputs": [
        {
          "output_type": "stream",
          "name": "stdout",
          "text": [
            "       PERFEED  HEDRES\n",
            "0       2.0165  1.1793\n",
            "1       0.5121  1.1793\n",
            "2       0.7743  1.1793\n",
            "3       0.2012  1.1793\n",
            "4       0.9044  1.1793\n",
            "...        ...     ...\n",
            "12156  -0.3253  0.0477\n",
            "12157   0.7743  1.1793\n",
            "12158  -0.3253  1.1793\n",
            "12159   0.7743  1.1793\n",
            "12160  -0.3253  1.1793\n",
            "\n",
            "[12161 rows x 2 columns]\n",
            "0        1\n",
            "1        1\n",
            "2        0\n",
            "3        1\n",
            "4        1\n",
            "        ..\n",
            "12156    0\n",
            "12157    0\n",
            "12158    0\n",
            "12159    0\n",
            "12160    0\n",
            "Name: ICTSCH, Length: 12161, dtype: int64\n"
          ]
        }
      ]
    },
    {
      "cell_type": "code",
      "source": [
        "# Verilerimizi test ve train olmak üzere ayıralım.\n",
        "\n",
        "X_train, X_test, y_train, y_test = train_test_split(X, y, test_size=0.3, random_state=42)"
      ],
      "metadata": {
        "id": "NUlrTxM4m-f4"
      },
      "execution_count": 98,
      "outputs": []
    },
    {
      "cell_type": "code",
      "source": [
        "# Modelimizi kuralım\n",
        "\n",
        "log_model = LogisticRegression()\n",
        "log_model.fit(X_train, y_train)"
      ],
      "metadata": {
        "colab": {
          "base_uri": "https://localhost:8080/"
        },
        "id": "lZ6QEiwwnCS-",
        "outputId": "293c9177-3950-41ac-985c-00cbdede23a4"
      },
      "execution_count": 99,
      "outputs": [
        {
          "output_type": "execute_result",
          "data": {
            "text/plain": [
              "LogisticRegression()"
            ]
          },
          "metadata": {},
          "execution_count": 99
        }
      ]
    },
    {
      "cell_type": "code",
      "source": [
        "# Tahmin yapalım\n",
        "\n",
        "y_pred = log_model.predict(X_test)"
      ],
      "metadata": {
        "id": "RqiuZO_bnJm-"
      },
      "execution_count": 100,
      "outputs": []
    },
    {
      "cell_type": "code",
      "source": [
        "# Confusion matrix\n",
        "\n",
        "from sklearn.metrics import confusion_matrix\n",
        "\n",
        "confusion_matrix(y_test, y_pred)"
      ],
      "metadata": {
        "colab": {
          "base_uri": "https://localhost:8080/"
        },
        "id": "s-0cQj5EnOFF",
        "outputId": "ef3a6e08-54fa-4d8f-e2bb-ef4c8cee1370"
      },
      "execution_count": 101,
      "outputs": [
        {
          "output_type": "execute_result",
          "data": {
            "text/plain": [
              "array([[ 465, 1216],\n",
              "       [ 407, 1561]])"
            ]
          },
          "metadata": {},
          "execution_count": 101
        }
      ]
    },
    {
      "cell_type": "code",
      "source": [
        "# Tahmin doğruluğunu hesaplayalım\n",
        "\n",
        "from sklearn.metrics import accuracy_score\n",
        "\n",
        "accuracy_score(y_test, y_pred)\n"
      ],
      "metadata": {
        "colab": {
          "base_uri": "https://localhost:8080/"
        },
        "id": "em6fGLVznT8F",
        "outputId": "cb4d7f50-fe49-45c4-87e7-c5880cf3793b"
      },
      "execution_count": 102,
      "outputs": [
        {
          "output_type": "execute_result",
          "data": {
            "text/plain": [
              "0.5552206083858592"
            ]
          },
          "metadata": {},
          "execution_count": 102
        }
      ]
    },
    {
      "cell_type": "code",
      "source": [
        "# f1-score, precision ve recall için gerekli kütüphanelerimizi import edelim\n",
        "\n",
        "from sklearn.metrics import f1_score, precision_score, recall_score, roc_auc_score, classification_report, roc_curve, precision_recall_curve"
      ],
      "metadata": {
        "id": "4Cdhm_fpoa70"
      },
      "execution_count": 103,
      "outputs": []
    },
    {
      "cell_type": "code",
      "source": [
        "f1_score(y_test, y_pred)"
      ],
      "metadata": {
        "colab": {
          "base_uri": "https://localhost:8080/"
        },
        "id": "b2SPesEop9Fi",
        "outputId": "e70f2154-6f2c-414b-be92-5fa49790b07d"
      },
      "execution_count": 104,
      "outputs": [
        {
          "output_type": "execute_result",
          "data": {
            "text/plain": [
              "0.6579557428872498"
            ]
          },
          "metadata": {},
          "execution_count": 104
        }
      ]
    },
    {
      "cell_type": "code",
      "source": [
        "precision_score(y_test, y_pred)\n"
      ],
      "metadata": {
        "colab": {
          "base_uri": "https://localhost:8080/"
        },
        "id": "M9xfqdoIpTJ8",
        "outputId": "0378fd6d-4352-496b-80d3-d5ea6bba9d10"
      },
      "execution_count": 105,
      "outputs": [
        {
          "output_type": "execute_result",
          "data": {
            "text/plain": [
              "0.5621173928700036"
            ]
          },
          "metadata": {},
          "execution_count": 105
        }
      ]
    },
    {
      "cell_type": "code",
      "source": [
        "recall_score(y_test, y_pred)\n"
      ],
      "metadata": {
        "colab": {
          "base_uri": "https://localhost:8080/"
        },
        "id": "lnPWBVvlpVp6",
        "outputId": "3ec336ef-2b5b-4245-e3a4-4bf5eb51c962"
      },
      "execution_count": 106,
      "outputs": [
        {
          "output_type": "execute_result",
          "data": {
            "text/plain": [
              "0.7931910569105691"
            ]
          },
          "metadata": {},
          "execution_count": 106
        }
      ]
    },
    {
      "cell_type": "code",
      "source": [
        "# ROC Curve\n",
        "\n",
        "y_pred_proba = log_model.predict_proba(X_test)[:,1]\n",
        "fpr, tpr, thresholds = roc_curve(y_test, y_pred_proba)\n",
        "\n",
        "plt.plot([0,1], [0,1], \"k--\")\n",
        "plt.plot(fpr, tpr, label=\"Logistic Regression\")\n",
        "plt.xlabel(\"False Positive Oran\")\n",
        "plt.ylabel(\"True Positive Oran\")\n",
        "plt.title(\"Lojistik Regresyon ROC Eğrisi\")\n",
        "plt.show()"
      ],
      "metadata": {
        "colab": {
          "base_uri": "https://localhost:8080/",
          "height": 295
        },
        "id": "MoK_J4m1oond",
        "outputId": "e897443e-9046-485d-df88-0520c07a3f39"
      },
      "execution_count": 107,
      "outputs": [
        {
          "output_type": "display_data",
          "data": {
            "text/plain": [
              "<Figure size 432x288 with 1 Axes>"
            ],
            "image/png": "[encoded data removed]"
          },
          "metadata": {
            "needs_background": "light"
          }
        }
      ]
    },
    {
      "cell_type": "code",
      "source": [
        "# Precision Recall Curve\n",
        "\n",
        "precisions, recalls, thresholds = precision_recall_curve(y_test, y_pred_proba)\n",
        "\n",
        "plt.plot(recalls, precisions, label=\"Logistic Regression\")\n",
        "plt.xlabel(\"Recall\")\n",
        "plt.ylabel(\"Precision\")\n",
        "plt.title(\"Lojistik Regresyon Precision Recall Eğrisi\")\n",
        "plt.show()"
      ],
      "metadata": {
        "colab": {
          "base_uri": "https://localhost:8080/",
          "height": 295
        },
        "id": "Gla5pbvWos2D",
        "outputId": "1ef42d1a-c473-42e6-894d-82a91968d88f"
      },
      "execution_count": 108,
      "outputs": [
        {
          "output_type": "display_data",
          "data": {
            "text/plain": [
              "<Figure size 432x288 with 1 Axes>"
            ],
            "image/png": "[encoded data removed]"
          },
          "metadata": {
            "needs_background": "light"
          }
        }
      ]
    },
    {
      "cell_type": "code",
      "source": [
        "# GridSearchCV ile en iyi parametreleri bulalım.\n",
        "\n",
        "from sklearn.model_selection import GridSearchCV\n",
        "\n",
        "grid = {\"C\": np.logspace(-3,3,7), \"penalty\": [\"l1\", \"l2\"]}\n",
        "log_model_cv = GridSearchCV(log_model, grid, cv=10)\n",
        "log_model_cv.fit(X_train, y_train)\n",
        "\n",
        "log_model_cv.best_params_"
      ],
      "metadata": {
        "id": "AMbrtODYo63-"
      },
      "execution_count": null,
      "outputs": []
    },
    {
      "cell_type": "code",
      "source": [
        "# En iyi parametrelerle modeli kuralım\n",
        "\n",
        "log_model_tuned = LogisticRegression(C=0.1, penalty=\"l2\")\n",
        "log_model_tuned.fit(X_train, y_train)\n",
        "\n",
        "# Tahmin yapalım\n",
        "\n",
        "y_pred = log_model_tuned.predict(X_test)\n",
        "\n",
        "# Confusion matrix\n",
        "\n",
        "confusion_matrix(y_test, y_pred)\n",
        "\n",
        "# Tahmin doğruluğunu hesaplayalım\n",
        "\n",
        "accuracy_score(y_test, y_pred)"
      ],
      "metadata": {
        "colab": {
          "base_uri": "https://localhost:8080/"
        },
        "id": "wIQplDlWpF5C",
        "outputId": "6e8802ea-d492-40bb-a4f2-6dcd313541e6"
      },
      "execution_count": 110,
      "outputs": [
        {
          "output_type": "execute_result",
          "data": {
            "text/plain": [
              "0.5549465607015621"
            ]
          },
          "metadata": {},
          "execution_count": 110
        }
      ]
    }
  ]
}